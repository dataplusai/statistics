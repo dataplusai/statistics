{
 "cells": [
  {
   "cell_type": "code",
   "execution_count": 1,
   "id": "39ecba9a-7e04-4db4-956e-317621647fef",
   "metadata": {},
   "outputs": [],
   "source": [
    "import pandas as pd"
   ]
  },
  {
   "cell_type": "code",
   "execution_count": 2,
   "id": "eb8daeab-055f-448e-b11c-13eef393fadc",
   "metadata": {},
   "outputs": [],
   "source": [
    "df_price = pd.read_csv('/home/rks2021/Downloads/archive/Wholesale-Price-Index-from-2012-to-2024.csv')\n",
    "df_crop = df_price['Crop']"
   ]
  },
  {
   "cell_type": "code",
   "execution_count": 3,
   "id": "9ecb6952-cafa-4830-bfcb-14b8362ce993",
   "metadata": {},
   "outputs": [],
   "source": [
    "def data_prep(data_frame, loc_list):\n",
    "    df_month = df_price.iloc[:,loc_list]\n",
    "    t_df_month = df_month.transpose()\n",
    "    t_df_month_1 = t_df_month.rename(df_crop, axis='columns')\n",
    "    t_df_month_1['month'] = t_df_month_1.index\n",
    "    t_df_month_2 = t_df_month_1.reset_index()\n",
    "    t_df_month_3 = t_df_month_2.drop(columns=['index'])\n",
    "    #t_df_month_3.head()\n",
    "    #t_df_month_3.shape\n",
    "    return t_df_month_3"
   ]
  },
  {
   "cell_type": "code",
   "execution_count": 4,
   "id": "4945cb3b-d012-4388-a9a3-e8528f6451b6",
   "metadata": {},
   "outputs": [],
   "source": [
    "df_jan = data_prep(df_price, [i for i in range(1, 13)])\n",
    "df_feb = data_prep(df_price, [i for i in range(13,25)])\n",
    "df_mar = data_prep(df_price, [i for i in range(25,37)])\n",
    "df_apr = data_prep(df_price, [i for i in range(37,50)])\n",
    "df_may = data_prep(df_price, [i for i in range(50,63)])\n",
    "df_jun = data_prep(df_price, [i for i in range(63,76)])\n",
    "df_jul = data_prep(df_price, [i for i in range(76,89)])\n",
    "df_aug = data_prep(df_price, [i for i in range(89,102)])\n",
    "df_sep = data_prep(df_price, [i for i in range(102,115)])\n",
    "df_oct = data_prep(df_price, [i for i in range(115,128)])\n",
    "df_nov = data_prep(df_price, [i for i in range(128, 141)])\n",
    "df_dec = data_prep(df_price, [i for i in range(141, 154)])"
   ]
  },
  {
   "cell_type": "code",
   "execution_count": 5,
   "id": "6303e600-0b63-48a3-8a05-8f599a4ce1c3",
   "metadata": {},
   "outputs": [],
   "source": [
    "df_apr_1 = df_apr.drop(index=0)\n",
    "df_may_1 = df_may.drop(index=0)\n",
    "df_jun_1 = df_jun.drop(index=0)\n",
    "df_jul_1 = df_jul.drop(index=0)\n",
    "df_aug_1 = df_aug.drop(index=0)\n",
    "df_sep_1 = df_sep.drop(index=0)\n",
    "df_oct_1 = df_oct.drop(index=0)\n",
    "df_nov_1 = df_nov.drop(index=0)\n",
    "df_dec_1 = df_dec.drop(index=0)"
   ]
  },
  {
   "cell_type": "code",
   "execution_count": 6,
   "id": "33678d3c-aa9b-40d2-a681-a5d1b29234d1",
   "metadata": {},
   "outputs": [],
   "source": [
    "df_final = pd.concat([df_jan,\n",
    "                    df_feb,\n",
    "                    df_mar,\n",
    "                    df_apr_1,\n",
    "                    df_may_1,\n",
    "                    df_jun_1,\n",
    "                    df_jul_1,\n",
    "                    df_aug_1,\n",
    "                    df_sep_1,\n",
    "                    df_oct_1,\n",
    "                    df_nov_1,\n",
    "                    df_dec_1],ignore_index=True)"
   ]
  },
  {
   "cell_type": "code",
   "execution_count": 7,
   "id": "ccf57aeb-3c71-4428-b199-eb6f67773d27",
   "metadata": {},
   "outputs": [
    {
     "data": {
      "text/plain": [
       "(144, 42)"
      ]
     },
     "execution_count": 7,
     "metadata": {},
     "output_type": "execute_result"
    }
   ],
   "source": [
    "df_final.shape"
   ]
  },
  {
   "cell_type": "code",
   "execution_count": 8,
   "id": "99197e8a-b269-4dad-a39b-47dd9536cffc",
   "metadata": {},
   "outputs": [
    {
     "data": {
      "text/plain": [
       "<bound method IndexOpsMixin.tolist of Index(['Bajra', 'Barley', 'Castorseed', 'Cotton', 'Cotton (Meal/Cake)',\n",
       "       'Cotton Oil', 'Gram', 'Groundnut', 'Groundnut Oil', 'Jowar', 'Jute',\n",
       "       'Lentil', 'Linseed', 'Maize', 'Mesta', 'Moong', 'Nigerseed', 'Onion',\n",
       "       'Paddy', 'Palm oil', 'Peas', 'Potato', 'Ragi', 'Rajma',\n",
       "       'Rapeseed & Mustard', 'Rapeseed & Mustard (Meal/Cake)',\n",
       "       'Rapeseed & Mustard Oil', 'Rice', 'Safflower', 'Sesamum', 'Soya oil',\n",
       "       'Soybean', 'Sugarcane', 'Sunflower', 'Sunflower oil', 'Tobacco',\n",
       "       'Tomato', 'Tur', 'Urad', 'Wheat', 'Wheat Atta', 'month'],\n",
       "      dtype='object')>"
      ]
     },
     "execution_count": 8,
     "metadata": {},
     "output_type": "execute_result"
    }
   ],
   "source": [
    "df_final.columns.tolist"
   ]
  },
  {
   "cell_type": "code",
   "execution_count": 9,
   "id": "0e598fb2-8914-4423-8072-cf087e27a628",
   "metadata": {},
   "outputs": [],
   "source": [
    "df_final_month=df_final['month']"
   ]
  },
  {
   "cell_type": "code",
   "execution_count": 10,
   "id": "5536ef5a-9346-4aff-8005-26840332ec65",
   "metadata": {},
   "outputs": [],
   "source": [
    "df_one = df_final.drop('month', axis=1)"
   ]
  },
  {
   "cell_type": "code",
   "execution_count": 12,
   "id": "32e0c33a-ac50-4638-a2a2-7d15fc019c32",
   "metadata": {},
   "outputs": [],
   "source": [
    "df_one_1 = df_one.mean(axis=1)"
   ]
  },
  {
   "cell_type": "code",
   "execution_count": 13,
   "id": "78be5b61-0380-4541-8c4b-1837ad94257f",
   "metadata": {},
   "outputs": [
    {
     "data": {
      "text/plain": [
       "(144,)"
      ]
     },
     "execution_count": 13,
     "metadata": {},
     "output_type": "execute_result"
    }
   ],
   "source": [
    "df_one_1.shape"
   ]
  },
  {
   "cell_type": "code",
   "execution_count": 18,
   "id": "a03e2723-543b-416b-b3c6-e2e7373198de",
   "metadata": {},
   "outputs": [],
   "source": [
    "df_one_f = df_one_1.to_frame()"
   ]
  },
  {
   "cell_type": "code",
   "execution_count": 19,
   "id": "b154a2a2-7035-4b99-8785-94732af89509",
   "metadata": {},
   "outputs": [],
   "source": [
    "df_one_f = df_one_f.rename(columns= {0: 'mean'})"
   ]
  },
  {
   "cell_type": "code",
   "execution_count": 20,
   "id": "ff0b5bed-6edb-4196-a28d-2c5852a15bf1",
   "metadata": {},
   "outputs": [
    {
     "data": {
      "text/plain": [
       "0      120.741463\n",
       "1      121.509756\n",
       "2      125.948780\n",
       "3      143.441463\n",
       "4      141.665854\n",
       "          ...    \n",
       "139    174.987805\n",
       "140    198.078049\n",
       "141    193.646341\n",
       "142    199.551220\n",
       "143    214.431707\n",
       "Name: mean, Length: 144, dtype: float64"
      ]
     },
     "execution_count": 20,
     "metadata": {},
     "output_type": "execute_result"
    }
   ],
   "source": [
    "df_one_f['mean']"
   ]
  },
  {
   "cell_type": "code",
   "execution_count": 21,
   "id": "3b864c8e-26ed-4b83-bb4d-9cd14c78cdff",
   "metadata": {},
   "outputs": [],
   "source": [
    "df_inflation = pd.read_csv('/home/rks2021/Downloads/inflation_monthly.csv')\n"
   ]
  },
  {
   "cell_type": "code",
   "execution_count": 22,
   "id": "49c51d9d-781b-4126-be47-e9e14a0b20a7",
   "metadata": {},
   "outputs": [
    {
     "data": {
      "text/plain": [
       "<bound method IndexOpsMixin.tolist of Index(['Release Date', 'Time', 'Actual', 'Forecast', 'Previous'], dtype='object')>"
      ]
     },
     "execution_count": 22,
     "metadata": {},
     "output_type": "execute_result"
    }
   ],
   "source": [
    "df_inflation.columns.tolist"
   ]
  },
  {
   "cell_type": "code",
   "execution_count": 23,
   "id": "2e0dcc79-d23b-4024-870e-e2fde0b7081a",
   "metadata": {},
   "outputs": [],
   "source": [
    "df_inf_1 = df_inflation[['Release Date','Actual']]"
   ]
  },
  {
   "cell_type": "code",
   "execution_count": 24,
   "id": "7022de6e-7963-41f7-b793-1f8d56a8a524",
   "metadata": {},
   "outputs": [
    {
     "data": {
      "text/plain": [
       "Index(['Release Date', 'Actual'], dtype='object')"
      ]
     },
     "execution_count": 24,
     "metadata": {},
     "output_type": "execute_result"
    }
   ],
   "source": [
    "df_inf_1.columns"
   ]
  },
  {
   "cell_type": "code",
   "execution_count": 25,
   "id": "9c1161f3-aff0-4a21-b3c6-f0a8d9c53975",
   "metadata": {
    "scrolled": true
   },
   "outputs": [],
   "source": [
    "df_inf_1_2013 = df_inf_1[df_inf_1['Release Date'].str.contains('2013')]"
   ]
  },
  {
   "cell_type": "code",
   "execution_count": 26,
   "id": "ca3fbc0f-ff88-46b5-b0bb-2ac1efd01381",
   "metadata": {},
   "outputs": [],
   "source": [
    "df_inf_1_2014 = df_inf_1[df_inf_1['Release Date'].str.contains('2014')]\n",
    "df_inf_1_2015 = df_inf_1[df_inf_1['Release Date'].str.contains('2015')]\n",
    "df_inf_1_2016 = df_inf_1[df_inf_1['Release Date'].str.contains('2016')]\n",
    "df_inf_1_2017 = df_inf_1[df_inf_1['Release Date'].str.contains('2017')]\n",
    "df_inf_1_2018 = df_inf_1[df_inf_1['Release Date'].str.contains('2018')]\n",
    "df_inf_1_2019 = df_inf_1[df_inf_1['Release Date'].str.contains('2019')]\n",
    "df_inf_1_2020 = df_inf_1[df_inf_1['Release Date'].str.contains('2020')]\n",
    "df_inf_1_2021 = df_inf_1[df_inf_1['Release Date'].str.contains('2021')]\n",
    "df_inf_1_2022 = df_inf_1[df_inf_1['Release Date'].str.contains('2022')]\n",
    "df_inf_1_2023 = df_inf_1[df_inf_1['Release Date'].str.contains('2023')]\n",
    "df_inf_1_2024 = df_inf_1[df_inf_1['Release Date'].str.contains('2024')]"
   ]
  },
  {
   "cell_type": "code",
   "execution_count": 27,
   "id": "880b9703-ab49-46ac-bc9d-c47260b7b8ee",
   "metadata": {},
   "outputs": [],
   "source": [
    "df_inf_1_2024_1 = df_inf_1_2024['Actual'].str.replace('%','')"
   ]
  },
  {
   "cell_type": "code",
   "execution_count": 28,
   "id": "ffbb0b93-8917-452a-9d36-b6b68ca384c0",
   "metadata": {},
   "outputs": [],
   "source": [
    "df_inf_1_2013_1 = df_inf_1_2013['Actual'].str.replace('%','')"
   ]
  },
  {
   "cell_type": "code",
   "execution_count": 29,
   "id": "d6fe32eb-b312-4c6a-a94d-8f259aff2947",
   "metadata": {},
   "outputs": [],
   "source": [
    "df_inf_1_2014_1 = df_inf_1_2014['Actual'].str.replace('%','')"
   ]
  },
  {
   "cell_type": "code",
   "execution_count": 30,
   "id": "77da2270-e232-400e-9142-e3b3aeb2b4d1",
   "metadata": {},
   "outputs": [],
   "source": [
    "df_inf_1_2015_1 = df_inf_1_2015['Actual'].str.replace('%','')\n",
    "df_inf_1_2016_1 = df_inf_1_2016['Actual'].str.replace('%','')\n",
    "df_inf_1_2017_1 = df_inf_1_2017['Actual'].str.replace('%','')"
   ]
  },
  {
   "cell_type": "code",
   "execution_count": 31,
   "id": "32e69c74-e6e7-432f-9a76-b3fdb2b4f6cd",
   "metadata": {},
   "outputs": [],
   "source": [
    "df_inf_1_2018_1 = df_inf_1_2018['Actual'].str.replace('%','')\n",
    "df_inf_1_2019_1 = df_inf_1_2019['Actual'].str.replace('%','')\n",
    "df_inf_1_2020_1 = df_inf_1_2020['Actual'].str.replace('%','')\n",
    "df_inf_1_2021_1 = df_inf_1_2021['Actual'].str.replace('%','')\n",
    "df_inf_1_2022_1 = df_inf_1_2022['Actual'].str.replace('%','')\n",
    "df_inf_1_2023_1 = df_inf_1_2023['Actual'].str.replace('%','')"
   ]
  },
  {
   "cell_type": "code",
   "execution_count": 32,
   "id": "0b2c3251-a7d4-494a-bb6a-36e9436b2b1a",
   "metadata": {},
   "outputs": [],
   "source": [
    "df_inf_1_2024_1_1 = pd.to_numeric(df_inf_1_2024_1)"
   ]
  },
  {
   "cell_type": "code",
   "execution_count": 33,
   "id": "1c113d40-55ff-40e4-b0f7-87069a811963",
   "metadata": {},
   "outputs": [],
   "source": [
    "df_inf_1_2013_1_1= pd.to_numeric(df_inf_1_2013_1)\n",
    "df_inf_1_2014_1_1= pd.to_numeric(df_inf_1_2014_1)\n",
    "df_inf_1_2015_1_1= pd.to_numeric(df_inf_1_2015_1)\n",
    "df_inf_1_2016_1_1= pd.to_numeric(df_inf_1_2016_1)\n",
    "df_inf_1_2017_1_1= pd.to_numeric(df_inf_1_2017_1)\n",
    "df_inf_1_2018_1_1= pd.to_numeric(df_inf_1_2018_1)\n",
    "df_inf_1_2019_1_1= pd.to_numeric(df_inf_1_2019_1)\n",
    "df_inf_1_2020_1_1= pd.to_numeric(df_inf_1_2020_1)\n",
    "df_inf_1_2021_1_1= pd.to_numeric(df_inf_1_2021_1)\n",
    "df_inf_1_2022_1_1= pd.to_numeric(df_inf_1_2022_1)\n",
    "df_inf_1_2023_1_1= pd.to_numeric(df_inf_1_2023_1)"
   ]
  },
  {
   "cell_type": "code",
   "execution_count": 39,
   "id": "253de94a-9b28-4767-a3be-1e211287995f",
   "metadata": {},
   "outputs": [],
   "source": [
    "df_2013_f = df_inf_1_2013_1_1.to_frame()\n",
    "df_2014_f = df_inf_1_2014_1_1.to_frame()\n",
    "df_2015_f = df_inf_1_2015_1_1.to_frame()\n",
    "df_2016_f = df_inf_1_2016_1_1.to_frame()\n",
    "df_2017_f = df_inf_1_2017_1_1.to_frame()\n",
    "df_2018_f = df_inf_1_2018_1_1.to_frame()\n",
    "df_2019_f = df_inf_1_2019_1_1.to_frame()\n",
    "df_2020_f = df_inf_1_2020_1_1.to_frame()\n",
    "df_2021_f = df_inf_1_2021_1_1.to_frame()\n",
    "df_2022_f = df_inf_1_2022_1_1.to_frame()\n",
    "df_2023_f = df_inf_1_2023_1_1.to_frame()\n",
    "df_2024_f = df_inf_1_2024_1_1.to_frame()"
   ]
  },
  {
   "cell_type": "code",
   "execution_count": 40,
   "id": "af79385e-1926-4e64-988c-45c767d807ea",
   "metadata": {},
   "outputs": [],
   "source": [
    "df_2013_f = df_2013_f.rename(columns= {'Actual': 'inflation'})\n",
    "df_2014_f = df_2014_f.rename(columns= {'Actual': 'inflation'})\n",
    "df_2015_f = df_2015_f.rename(columns= {'Actual': 'inflation'})\n",
    "df_2016_f = df_2016_f.rename(columns= {'Actual': 'inflation'})\n",
    "df_2017_f = df_2017_f.rename(columns= {'Actual': 'inflation'})\n",
    "df_2018_f = df_2018_f.rename(columns= {'Actual': 'inflation'})\n",
    "df_2019_f = df_2019_f.rename(columns= {'Actual': 'inflation'})\n",
    "df_2020_f = df_2020_f.rename(columns= {'Actual': 'inflation'})\n",
    "df_2021_f = df_2021_f.rename(columns= {'Actual': 'inflation'})\n",
    "df_2022_f = df_2022_f.rename(columns= {'Actual': 'inflation'})\n",
    "df_2023_f = df_2023_f.rename(columns= {'Actual': 'inflation'})\n",
    "df_2024_f = df_2024_f.rename(columns= {'Actual': 'inflation'})"
   ]
  },
  {
   "cell_type": "code",
   "execution_count": 54,
   "id": "70cbc202-66d5-4c4a-ac45-ba513a5acb7b",
   "metadata": {},
   "outputs": [],
   "source": [
    "df_2013_f['year'] = 2013\n",
    "df_2014_f['year'] = 2014\n",
    "df_2015_f['year'] = 2015\n",
    "df_2016_f['year'] = 2016\n",
    "df_2017_f['year'] = 2017\n",
    "df_2018_f['year'] = 2018\n",
    "df_2019_f['year'] = 2019\n",
    "df_2020_f['year'] = 2020\n",
    "df_2021_f['year'] = 2021\n",
    "df_2022_f['year'] = 2022\n",
    "df_2023_f['year'] = 2023\n",
    "df_2024_f['year'] = 2024"
   ]
  },
  {
   "cell_type": "code",
   "execution_count": 62,
   "id": "d0af1cc5-e2a4-416b-9dfe-87128523e2ea",
   "metadata": {},
   "outputs": [],
   "source": [
    "df_2013_f['month'] = range(df_2013_f.shape[0])\n",
    "df_2014_f['month'] = range(df_2014_f.shape[0])\n",
    "df_2015_f['month'] = range(df_2015_f.shape[0])\n",
    "df_2016_f['month'] = range(df_2016_f.shape[0])\n",
    "df_2017_f['month'] = range(df_2017_f.shape[0])\n",
    "df_2018_f['month'] = range(df_2018_f.shape[0])\n",
    "df_2019_f['month'] = range(df_2019_f.shape[0])\n",
    "df_2020_f['month'] = range(df_2020_f.shape[0])\n",
    "df_2021_f['month'] = range(df_2021_f.shape[0])\n",
    "df_2022_f['month'] = range(df_2022_f.shape[0])\n",
    "df_2023_f['month'] = range(df_2023_f.shape[0])\n",
    "df_2024_f['month'] = range(df_2024_f.shape[0])"
   ]
  },
  {
   "cell_type": "code",
   "execution_count": 63,
   "id": "cecefd0f-dd46-4b68-838b-ada29b74e3ac",
   "metadata": {},
   "outputs": [],
   "source": [
    "df_2013_f['month'] = df_2013_f['month'] + 1\n",
    "df_2014_f['month'] = df_2014_f['month'] + 1\n",
    "df_2015_f['month'] = df_2015_f['month'] + 1\n",
    "df_2016_f['month'] = df_2016_f['month'] + 1\n",
    "df_2017_f['month'] = df_2017_f['month'] + 1\n",
    "df_2018_f['month'] = df_2018_f['month'] + 1\n",
    "df_2019_f['month'] = df_2019_f['month'] + 1\n",
    "df_2020_f['month'] = df_2020_f['month'] + 1\n",
    "df_2021_f['month'] = df_2021_f['month'] + 1\n",
    "df_2022_f['month'] = df_2022_f['month'] + 1\n",
    "df_2023_f['month'] = df_2023_f['month'] + 1\n",
    "df_2024_f['month'] = df_2024_f['month'] + 1"
   ]
  },
  {
   "cell_type": "code",
   "execution_count": 66,
   "id": "a6deccf4-a3a6-4958-8c88-b29ca71192e3",
   "metadata": {},
   "outputs": [],
   "source": [
    "df_inf_final = pd.concat([df_2013_f,\n",
    "                    df_2014_f,\n",
    "                    df_2015_f,\n",
    "                    df_2016_f,\n",
    "                    df_2017_f,\n",
    "                    df_2018_f,\n",
    "                    df_2019_f,\n",
    "                    df_2020_f,\n",
    "                    df_2021_f,\n",
    "                    df_2022_f,\n",
    "                    df_2023_f,\n",
    "                    df_2024_f],ignore_index=True)"
   ]
  },
  {
   "cell_type": "code",
   "execution_count": 69,
   "id": "e5ccde62-9ac1-4212-bebb-a94f58cda5b9",
   "metadata": {},
   "outputs": [],
   "source": [
    "df_inf_final_1 = df_inf_final.sort_values(by=['month', 'year'])"
   ]
  },
  {
   "cell_type": "code",
   "execution_count": 70,
   "id": "37939fda-f82f-48c6-819f-79fc2111aee3",
   "metadata": {},
   "outputs": [
    {
     "data": {
      "text/plain": [
       "(144, 3)"
      ]
     },
     "execution_count": 70,
     "metadata": {},
     "output_type": "execute_result"
    }
   ],
   "source": [
    "df_inf_final_1.shape"
   ]
  },
  {
   "cell_type": "code",
   "execution_count": 71,
   "id": "bd5835c0-c699-4728-9460-278617677c04",
   "metadata": {},
   "outputs": [
    {
     "data": {
      "text/plain": [
       "(144, 1)"
      ]
     },
     "execution_count": 71,
     "metadata": {},
     "output_type": "execute_result"
    }
   ],
   "source": [
    "df_one_f.shape"
   ]
  },
  {
   "cell_type": "code",
   "execution_count": 73,
   "id": "ef950ddf-446d-4bb7-85a6-867bf6616514",
   "metadata": {},
   "outputs": [
    {
     "name": "stdout",
     "output_type": "stream",
     "text": [
      "Collecting statsmodels\n",
      "  Downloading statsmodels-0.14.1-cp38-cp38-manylinux_2_17_x86_64.manylinux2014_x86_64.whl (10.9 MB)\n",
      "\u001b[K     |████████████████████████████████| 10.9 MB 5.5 MB/s eta 0:00:01\n",
      "\u001b[?25hCollecting scipy!=1.9.2,>=1.4\n",
      "  Downloading scipy-1.10.1-cp38-cp38-manylinux_2_17_x86_64.manylinux2014_x86_64.whl (34.5 MB)\n",
      "\u001b[K     |████████████████████████████████| 34.5 MB 7.8 MB/s eta 0:00:01     |█████████████████████████████▍  | 31.8 MB 5.3 MB/s eta 0:00:01\n",
      "\u001b[?25hRequirement already satisfied: pandas!=2.1.0,>=1.0 in ./.local/lib/python3.8/site-packages (from statsmodels) (2.0.3)\n",
      "Requirement already satisfied: packaging>=21.3 in ./.local/lib/python3.8/site-packages (from statsmodels) (24.1)\n",
      "Requirement already satisfied: numpy<2,>=1.18 in ./.local/lib/python3.8/site-packages (from statsmodels) (1.24.4)\n",
      "Collecting patsy>=0.5.4\n",
      "  Downloading patsy-1.0.1-py2.py3-none-any.whl (232 kB)\n",
      "\u001b[K     |████████████████████████████████| 232 kB 2.6 MB/s eta 0:00:01\n",
      "\u001b[?25hRequirement already satisfied: python-dateutil>=2.8.2 in ./.local/lib/python3.8/site-packages (from pandas!=2.1.0,>=1.0->statsmodels) (2.9.0.post0)\n",
      "Requirement already satisfied: tzdata>=2022.1 in ./.local/lib/python3.8/site-packages (from pandas!=2.1.0,>=1.0->statsmodels) (2025.1)\n",
      "Requirement already satisfied: pytz>=2020.1 in ./.local/lib/python3.8/site-packages (from pandas!=2.1.0,>=1.0->statsmodels) (2025.1)\n",
      "Requirement already satisfied: six>=1.5 in /usr/lib/python3/dist-packages (from python-dateutil>=2.8.2->pandas!=2.1.0,>=1.0->statsmodels) (1.14.0)\n",
      "Installing collected packages: scipy, patsy, statsmodels\n",
      "Successfully installed patsy-1.0.1 scipy-1.10.1 statsmodels-0.14.1\n"
     ]
    }
   ],
   "source": [
    "!pip install statsmodels"
   ]
  },
  {
   "cell_type": "code",
   "execution_count": 75,
   "id": "17318de6-6ca7-4a9c-a6ac-09faa9e6fd91",
   "metadata": {},
   "outputs": [],
   "source": [
    "import statsmodels.api as sm"
   ]
  },
  {
   "cell_type": "code",
   "execution_count": 76,
   "id": "9ba80973-b6dc-49a1-816e-ee4c942edd68",
   "metadata": {},
   "outputs": [],
   "source": [
    "import statsmodels.formula.api as smf"
   ]
  },
  {
   "cell_type": "code",
   "execution_count": 84,
   "id": "03316cf6-6617-47d2-a2d1-d41349692843",
   "metadata": {},
   "outputs": [],
   "source": [
    "y = df_inf_final_1['inflation'].to_numpy()"
   ]
  },
  {
   "cell_type": "code",
   "execution_count": 85,
   "id": "cb40e009-8072-4638-9beb-3fa5dffc98ba",
   "metadata": {},
   "outputs": [],
   "source": [
    "X = df_one_f['mean'].to_numpy()"
   ]
  },
  {
   "cell_type": "code",
   "execution_count": 86,
   "id": "1afa84e0-f927-42b2-8590-7bc11b502cfe",
   "metadata": {},
   "outputs": [],
   "source": [
    "results = sm.OLS(y,X).fit()"
   ]
  },
  {
   "cell_type": "code",
   "execution_count": 87,
   "id": "9cc8f82a-a4af-4f7f-8494-0f4218ea698b",
   "metadata": {},
   "outputs": [
    {
     "name": "stdout",
     "output_type": "stream",
     "text": [
      "                                 OLS Regression Results                                \n",
      "=======================================================================================\n",
      "Dep. Variable:                      y   R-squared (uncentered):                   0.415\n",
      "Model:                            OLS   Adj. R-squared (uncentered):              0.411\n",
      "Method:                 Least Squares   F-statistic:                              101.3\n",
      "Date:                Tue, 25 Feb 2025   Prob (F-statistic):                    2.41e-18\n",
      "Time:                        13:52:26   Log-Likelihood:                         -418.01\n",
      "No. Observations:                 144   AIC:                                      838.0\n",
      "Df Residuals:                     143   BIC:                                      841.0\n",
      "Df Model:                           1                                                  \n",
      "Covariance Type:            nonrobust                                                  \n",
      "==============================================================================\n",
      "                 coef    std err          t      P>|t|      [0.025      0.975]\n",
      "------------------------------------------------------------------------------\n",
      "x1             0.0229      0.002     10.064      0.000       0.018       0.027\n",
      "==============================================================================\n",
      "Omnibus:                        8.328   Durbin-Watson:                   2.092\n",
      "Prob(Omnibus):                  0.016   Jarque-Bera (JB):                8.725\n",
      "Skew:                           0.602   Prob(JB):                       0.0127\n",
      "Kurtosis:                       2.926   Cond. No.                         1.00\n",
      "==============================================================================\n",
      "\n",
      "Notes:\n",
      "[1] R² is computed without centering (uncentered) since the model does not contain a constant.\n",
      "[2] Standard Errors assume that the covariance matrix of the errors is correctly specified.\n"
     ]
    }
   ],
   "source": [
    "print(results.summary())"
   ]
  },
  {
   "cell_type": "code",
   "execution_count": 88,
   "id": "d88eb3ee-b418-4b35-b32c-a5acb8425bee",
   "metadata": {},
   "outputs": [],
   "source": [
    "import matplotlib.pyplot as plt"
   ]
  },
  {
   "cell_type": "code",
   "execution_count": 92,
   "id": "ee9c3ec3-1d4f-40cc-afdb-190b3f9de3a7",
   "metadata": {},
   "outputs": [
    {
     "data": {
      "text/plain": [
       "<matplotlib.collections.PathCollection at 0x7f8f094a79d0>"
      ]
     },
     "execution_count": 92,
     "metadata": {},
     "output_type": "execute_result"
    },
    {
     "data": {
      "image/png": "[encoded data removed]",
      "text/plain": [
       "<Figure size 640x480 with 1 Axes>"
      ]
     },
     "metadata": {},
     "output_type": "display_data"
    }
   ],
   "source": [
    "plt.scatter(X,y)"
   ]
  },
  {
   "cell_type": "code",
   "execution_count": null,
   "id": "29893b4e-1722-4aa5-a347-af4f4f8453a5",
   "metadata": {},
   "outputs": [],
   "source": []
  }
 ],
 "metadata": {
  "kernelspec": {
   "display_name": "Python 3 (ipykernel)",
   "language": "python",
   "name": "python3"
  },
  "language_info": {
   "codemirror_mode": {
    "name": "ipython",
    "version": 3
   },
   "file_extension": ".py",
   "mimetype": "text/x-python",
   "name": "python",
   "nbconvert_exporter": "python",
   "pygments_lexer": "ipython3",
   "version": "3.8.10"
  }
 },
 "nbformat": 4,
 "nbformat_minor": 5
}
